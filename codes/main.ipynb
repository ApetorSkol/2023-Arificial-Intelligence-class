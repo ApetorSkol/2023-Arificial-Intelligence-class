{
 "cells": [
  {
   "cell_type": "code",
   "execution_count": 2,
   "metadata": {},
   "outputs": [],
   "source": [
    "import pandas as pd\n",
    "import matplotlib.pyplot as plt\n",
    "import numpy as np\n",
    "import seaborn as sns"
   ]
  },
  {
   "cell_type": "code",
   "execution_count": 3,
   "metadata": {},
   "outputs": [
    {
     "name": "stdout",
     "output_type": "stream",
     "text": [
      "(8124, 23)\n",
      "class                       object\n",
      "cap-shape                   object\n",
      "cap-surface                 object\n",
      "cap-color                   object\n",
      "bruises                     object\n",
      "odor                        object\n",
      "gill-attachment             object\n",
      "gill-spacing                object\n",
      "gill-size                   object\n",
      "gill-color                  object\n",
      "stalk-shape                 object\n",
      "stalk-root                  object\n",
      "stalk-surface-above-ring    object\n",
      "stalk-surface-below-ring    object\n",
      "stalk-color-above-ring      object\n",
      "stalk-color-below-ring      object\n",
      "veil-type                   object\n",
      "veil-color                  object\n",
      "ring-number                 object\n",
      "ring-type                   object\n",
      "spore-print-color           object\n",
      "population                  object\n",
      "habitat                     object\n",
      "dtype: object\n",
      "  class cap-shape cap-surface cap-color bruises odor gill-attachment  \\\n",
      "0     p         x           s         n       t    p               f   \n",
      "1     e         x           s         y       t    a               f   \n",
      "2     e         b           s         w       t    l               f   \n",
      "3     p         x           y         w       t    p               f   \n",
      "4     e         x           s         g       f    n               f   \n",
      "5     e         x           y         y       t    a               f   \n",
      "6     e         b           s         w       t    a               f   \n",
      "7     e         b           y         w       t    l               f   \n",
      "8     p         x           y         w       t    p               f   \n",
      "9     e         b           s         y       t    a               f   \n",
      "\n",
      "  gill-spacing gill-size gill-color  ... stalk-surface-below-ring  \\\n",
      "0            c         n          k  ...                        s   \n",
      "1            c         b          k  ...                        s   \n",
      "2            c         b          n  ...                        s   \n",
      "3            c         n          n  ...                        s   \n",
      "4            w         b          k  ...                        s   \n",
      "5            c         b          n  ...                        s   \n",
      "6            c         b          g  ...                        s   \n",
      "7            c         b          n  ...                        s   \n",
      "8            c         n          p  ...                        s   \n",
      "9            c         b          g  ...                        s   \n",
      "\n",
      "  stalk-color-above-ring stalk-color-below-ring veil-type veil-color  \\\n",
      "0                      w                      w         p          w   \n",
      "1                      w                      w         p          w   \n",
      "2                      w                      w         p          w   \n",
      "3                      w                      w         p          w   \n",
      "4                      w                      w         p          w   \n",
      "5                      w                      w         p          w   \n",
      "6                      w                      w         p          w   \n",
      "7                      w                      w         p          w   \n",
      "8                      w                      w         p          w   \n",
      "9                      w                      w         p          w   \n",
      "\n",
      "  ring-number ring-type spore-print-color population habitat  \n",
      "0           o         p                 k          s       u  \n",
      "1           o         p                 n          n       g  \n",
      "2           o         p                 n          n       m  \n",
      "3           o         p                 k          s       u  \n",
      "4           o         e                 n          a       g  \n",
      "5           o         p                 k          n       g  \n",
      "6           o         p                 k          n       m  \n",
      "7           o         p                 n          s       m  \n",
      "8           o         p                 k          v       g  \n",
      "9           o         p                 k          s       m  \n",
      "\n",
      "[10 rows x 23 columns]\n"
     ]
    }
   ],
   "source": [
    "#store data in df\n",
    "df = pd.read_csv('mushrooms.csv')\n",
    "print(df.shape)\n",
    "print(df.dtypes)\n",
    "print(df.head(10))"
   ]
  },
  {
   "cell_type": "code",
   "execution_count": 4,
   "metadata": {},
   "outputs": [
    {
     "data": {
      "text/plain": [
       "class\n",
       "0    4208\n",
       "1    3916\n",
       "Name: class, dtype: int64"
      ]
     },
     "execution_count": 4,
     "metadata": {},
     "output_type": "execute_result"
    }
   ],
   "source": [
    "#0 means edible and 1 means poison\n",
    "df['class'] = np.where(df['class'] == 'e',0,\n",
    "                        np.where(df['class'] == 'p',1,2))\n",
    "df.groupby('class')['class'].count()"
   ]
  },
  {
   "cell_type": "code",
   "execution_count": 14,
   "metadata": {},
   "outputs": [
    {
     "name": "stdout",
     "output_type": "stream",
     "text": [
      "class  stalk-shape\n",
      "0      e              1616\n",
      "       t              2592\n",
      "1      e              1900\n",
      "       t              2016\n",
      "Name: stalk-shape, dtype: int64\n"
     ]
    },
    {
     "data": {
      "text/plain": [
       "stalk-shape\n",
       "e    3516\n",
       "t    4608\n",
       "Name: stalk-shape, dtype: int64"
      ]
     },
     "execution_count": 14,
     "metadata": {},
     "output_type": "execute_result"
    }
   ],
   "source": [
    "print(df.groupby(['class','stalk-shape'])['stalk-shape'].count())\n",
    "counts = df.groupby('stalk-shape')['stalk-shape'].count()\n",
    "counts"
   ]
  },
  {
   "cell_type": "code",
   "execution_count": 15,
   "metadata": {},
   "outputs": [
    {
     "name": "stdout",
     "output_type": "stream",
     "text": [
      "class  stalk-root\n",
      "0      ?              720\n",
      "       b             1920\n",
      "       c              512\n",
      "       e              864\n",
      "       r              192\n",
      "1      ?             1760\n",
      "       b             1856\n",
      "       c               44\n",
      "       e              256\n",
      "Name: stalk-root, dtype: int64\n"
     ]
    },
    {
     "data": {
      "text/plain": [
       "stalk-root\n",
       "?    2480\n",
       "b    3776\n",
       "c     556\n",
       "e    1120\n",
       "r     192\n",
       "Name: stalk-root, dtype: int64"
      ]
     },
     "execution_count": 15,
     "metadata": {},
     "output_type": "execute_result"
    }
   ],
   "source": [
    "print(df.groupby(['class','stalk-root'])['stalk-root'].count())\n",
    "counts = df.groupby('stalk-root')['stalk-root'].count()\n",
    "counts"
   ]
  },
  {
   "cell_type": "code",
   "execution_count": 16,
   "metadata": {},
   "outputs": [
    {
     "name": "stdout",
     "output_type": "stream",
     "text": [
      "class  stalk-surface-above-ring\n",
      "0      f                            408\n",
      "       k                            144\n",
      "       s                           3640\n",
      "       y                             16\n",
      "1      f                            144\n",
      "       k                           2228\n",
      "       s                           1536\n",
      "       y                              8\n",
      "Name: stalk-surface-above-ring, dtype: int64\n"
     ]
    },
    {
     "data": {
      "text/plain": [
       "stalk-surface-above-ring\n",
       "f     552\n",
       "k    2372\n",
       "s    5176\n",
       "y      24\n",
       "Name: stalk-surface-above-ring, dtype: int64"
      ]
     },
     "execution_count": 16,
     "metadata": {},
     "output_type": "execute_result"
    }
   ],
   "source": [
    "print(df.groupby(['class','stalk-surface-above-ring'])['stalk-surface-above-ring'].count())\n",
    "counts = df.groupby('stalk-surface-above-ring')['stalk-surface-above-ring'].count()\n",
    "counts"
   ]
  },
  {
   "cell_type": "code",
   "execution_count": 17,
   "metadata": {},
   "outputs": [
    {
     "name": "stdout",
     "output_type": "stream",
     "text": [
      "class  stalk-surface-below-ring\n",
      "0      f                            456\n",
      "       k                            144\n",
      "       s                           3400\n",
      "       y                            208\n",
      "1      f                            144\n",
      "       k                           2160\n",
      "       s                           1536\n",
      "       y                             76\n",
      "Name: stalk-surface-below-ring, dtype: int64\n"
     ]
    },
    {
     "data": {
      "text/plain": [
       "stalk-surface-below-ring\n",
       "f     600\n",
       "k    2304\n",
       "s    4936\n",
       "y     284\n",
       "Name: stalk-surface-below-ring, dtype: int64"
      ]
     },
     "execution_count": 17,
     "metadata": {},
     "output_type": "execute_result"
    }
   ],
   "source": [
    "print(df.groupby(['class','stalk-surface-below-ring'])['stalk-surface-below-ring'].count())\n",
    "counts = df.groupby('stalk-surface-below-ring')['stalk-surface-below-ring'].count()\n",
    "counts"
   ]
  },
  {
   "cell_type": "code",
   "execution_count": 18,
   "metadata": {},
   "outputs": [
    {
     "name": "stdout",
     "output_type": "stream",
     "text": [
      "class  stalk-color-above-ring\n",
      "0      e                           96\n",
      "       g                          576\n",
      "       n                           16\n",
      "       o                          192\n",
      "       p                          576\n",
      "       w                         2752\n",
      "1      b                          432\n",
      "       c                           36\n",
      "       n                          432\n",
      "       p                         1296\n",
      "       w                         1712\n",
      "       y                            8\n",
      "Name: stalk-color-above-ring, dtype: int64\n"
     ]
    },
    {
     "data": {
      "text/plain": [
       "stalk-color-above-ring\n",
       "b     432\n",
       "c      36\n",
       "e      96\n",
       "g     576\n",
       "n     448\n",
       "o     192\n",
       "p    1872\n",
       "w    4464\n",
       "y       8\n",
       "Name: stalk-color-above-ring, dtype: int64"
      ]
     },
     "execution_count": 18,
     "metadata": {},
     "output_type": "execute_result"
    }
   ],
   "source": [
    "print(df.groupby(['class','stalk-color-above-ring'])['stalk-color-above-ring'].count())\n",
    "counts = df.groupby('stalk-color-above-ring')['stalk-color-above-ring'].count()\n",
    "counts"
   ]
  },
  {
   "cell_type": "code",
   "execution_count": 19,
   "metadata": {},
   "outputs": [
    {
     "name": "stdout",
     "output_type": "stream",
     "text": [
      "class  stalk-color-below-ring\n",
      "0      e                           96\n",
      "       g                          576\n",
      "       n                           64\n",
      "       o                          192\n",
      "       p                          576\n",
      "       w                         2704\n",
      "1      b                          432\n",
      "       c                           36\n",
      "       n                          448\n",
      "       p                         1296\n",
      "       w                         1680\n",
      "       y                           24\n",
      "Name: stalk-color-below-ring, dtype: int64\n"
     ]
    },
    {
     "data": {
      "text/plain": [
       "stalk-color-below-ring\n",
       "b     432\n",
       "c      36\n",
       "e      96\n",
       "g     576\n",
       "n     512\n",
       "o     192\n",
       "p    1872\n",
       "w    4384\n",
       "y      24\n",
       "Name: stalk-color-below-ring, dtype: int64"
      ]
     },
     "execution_count": 19,
     "metadata": {},
     "output_type": "execute_result"
    }
   ],
   "source": [
    "print(df.groupby(['class','stalk-color-below-ring'])['stalk-color-below-ring'].count())\n",
    "counts = df.groupby('stalk-color-below-ring')['stalk-color-below-ring'].count()\n",
    "counts"
   ]
  }
 ],
 "metadata": {
  "kernelspec": {
   "display_name": "Python 3",
   "language": "python",
   "name": "python3"
  },
  "language_info": {
   "codemirror_mode": {
    "name": "ipython",
    "version": 3
   },
   "file_extension": ".py",
   "mimetype": "text/x-python",
   "name": "python",
   "nbconvert_exporter": "python",
   "pygments_lexer": "ipython3",
   "version": "3.11.0"
  },
  "orig_nbformat": 4
 },
 "nbformat": 4,
 "nbformat_minor": 2
}
